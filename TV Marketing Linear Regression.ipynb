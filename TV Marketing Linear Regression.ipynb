{
 "cells": [
  {
   "cell_type": "code",
   "execution_count": 5,
   "id": "9b2395ce",
   "metadata": {},
   "outputs": [],
   "source": [
    "import numpy as np\n",
    "import pandas as pd\n",
    "import matplotlib.pyplot as plt"
   ]
  },
  {
   "cell_type": "code",
   "execution_count": 39,
   "id": "b02b5a6d",
   "metadata": {},
   "outputs": [
    {
     "data": {
      "text/html": [
       "<div>\n",
       "<style scoped>\n",
       "    .dataframe tbody tr th:only-of-type {\n",
       "        vertical-align: middle;\n",
       "    }\n",
       "\n",
       "    .dataframe tbody tr th {\n",
       "        vertical-align: top;\n",
       "    }\n",
       "\n",
       "    .dataframe thead th {\n",
       "        text-align: right;\n",
       "    }\n",
       "</style>\n",
       "<table border=\"1\" class=\"dataframe\">\n",
       "  <thead>\n",
       "    <tr style=\"text-align: right;\">\n",
       "      <th></th>\n",
       "      <th>TV</th>\n",
       "      <th>Sales</th>\n",
       "    </tr>\n",
       "  </thead>\n",
       "  <tbody>\n",
       "    <tr>\n",
       "      <th>0</th>\n",
       "      <td>230.1</td>\n",
       "      <td>22.1</td>\n",
       "    </tr>\n",
       "    <tr>\n",
       "      <th>1</th>\n",
       "      <td>44.5</td>\n",
       "      <td>10.4</td>\n",
       "    </tr>\n",
       "    <tr>\n",
       "      <th>2</th>\n",
       "      <td>17.2</td>\n",
       "      <td>9.3</td>\n",
       "    </tr>\n",
       "    <tr>\n",
       "      <th>3</th>\n",
       "      <td>151.5</td>\n",
       "      <td>18.5</td>\n",
       "    </tr>\n",
       "    <tr>\n",
       "      <th>4</th>\n",
       "      <td>180.8</td>\n",
       "      <td>12.9</td>\n",
       "    </tr>\n",
       "    <tr>\n",
       "      <th>...</th>\n",
       "      <td>...</td>\n",
       "      <td>...</td>\n",
       "    </tr>\n",
       "    <tr>\n",
       "      <th>195</th>\n",
       "      <td>38.2</td>\n",
       "      <td>7.6</td>\n",
       "    </tr>\n",
       "    <tr>\n",
       "      <th>196</th>\n",
       "      <td>94.2</td>\n",
       "      <td>9.7</td>\n",
       "    </tr>\n",
       "    <tr>\n",
       "      <th>197</th>\n",
       "      <td>177.0</td>\n",
       "      <td>12.8</td>\n",
       "    </tr>\n",
       "    <tr>\n",
       "      <th>198</th>\n",
       "      <td>283.6</td>\n",
       "      <td>25.5</td>\n",
       "    </tr>\n",
       "    <tr>\n",
       "      <th>199</th>\n",
       "      <td>232.1</td>\n",
       "      <td>13.4</td>\n",
       "    </tr>\n",
       "  </tbody>\n",
       "</table>\n",
       "<p>200 rows × 2 columns</p>\n",
       "</div>"
      ],
      "text/plain": [
       "        TV  Sales\n",
       "0    230.1   22.1\n",
       "1     44.5   10.4\n",
       "2     17.2    9.3\n",
       "3    151.5   18.5\n",
       "4    180.8   12.9\n",
       "..     ...    ...\n",
       "195   38.2    7.6\n",
       "196   94.2    9.7\n",
       "197  177.0   12.8\n",
       "198  283.6   25.5\n",
       "199  232.1   13.4\n",
       "\n",
       "[200 rows x 2 columns]"
      ]
     },
     "execution_count": 39,
     "metadata": {},
     "output_type": "execute_result"
    }
   ],
   "source": [
    "data = pd.read_csv(\"X:\\\\Neil\\\\Code\\\\coding IEEE\\\\CSV\\\\tvmarketing.csv\")\n",
    "data"
   ]
  },
  {
   "cell_type": "markdown",
   "id": "ae4dc42f",
   "metadata": {},
   "source": [
    "# Data graph"
   ]
  },
  {
   "cell_type": "code",
   "execution_count": 7,
   "id": "d356a6af",
   "metadata": {},
   "outputs": [
    {
     "data": {
      "text/plain": [
       "<matplotlib.collections.PathCollection at 0x1e66ea70df0>"
      ]
     },
     "execution_count": 7,
     "metadata": {},
     "output_type": "execute_result"
    },
    {
     "data": {
      "image/png": "[encoded data removed]",
      "text/plain": [
       "<Figure size 432x288 with 1 Axes>"
      ]
     },
     "metadata": {
      "needs_background": "light"
     },
     "output_type": "display_data"
    }
   ],
   "source": [
    "plt.xlabel(\"TVs\")\n",
    "plt.ylabel(\"Sales\")\n",
    "plt.scatter(data.TV,data.Sales)"
   ]
  },
  {
   "cell_type": "markdown",
   "id": "56a1ebad",
   "metadata": {},
   "source": [
    "# Cost Function"
   ]
  },
  {
   "cell_type": "code",
   "execution_count": 43,
   "id": "4c6ed12e",
   "metadata": {},
   "outputs": [],
   "source": [
    "def cost_function(w,b):\n",
    "    total_error = 0\n",
    "    for i in range(200):\n",
    "        x = data.TV.iloc[i]\n",
    "        y = data.Sales.iloc[i]\n",
    "        total_error += (y - (w*x + b)) ** 2 \n",
    "        total_cost = total_error/float(len(data))\n",
    "    return total_cost\n",
    "    "
   ]
  },
  {
   "cell_type": "markdown",
   "id": "0165d4b2",
   "metadata": {},
   "source": [
    "# Gradient Descent"
   ]
  },
  {
   "cell_type": "code",
   "execution_count": 47,
   "id": "090b508a",
   "metadata": {},
   "outputs": [],
   "source": [
    "def GD(w_now,b_now,l,data):\n",
    "    w_gradient = 0\n",
    "    b_gradient = 0\n",
    "\n",
    " \n",
    "\n",
    "    for i in range(200):\n",
    "        x = data.iloc[i,0]\n",
    "        y = data.iloc[i,1]\n",
    "        w_gradient += ((2/200) * x * (w_now*x + b_now - y))\n",
    "        b_gradient += ((2/200) * (w_now*x + b_now - y))\n",
    "\n",
    "    w_new = w_now - l * w_gradient\n",
    "    b_new = b_now - l * b_gradient\n",
    "\n",
    "    return w_new, b_new"
   ]
  },
  {
   "cell_type": "code",
   "execution_count": 61,
   "id": "a1e027b8",
   "metadata": {},
   "outputs": [
    {
     "name": "stdout",
     "output_type": "stream",
     "text": [
      "Epochs: 0\n",
      "58.58494359559261\n",
      "Epochs: 50\n",
      "23.03162049521729\n",
      "Epochs: 100\n",
      "23.025280447764903\n",
      "Epochs: 150\n",
      "23.01894361113646\n",
      "Epochs: 200\n",
      "23.012609983706025\n",
      "Epochs: 250\n",
      "23.006279563848235\n",
      "Epochs: 300\n",
      "22.999952349938713\n",
      "Epochs: 350\n",
      "22.99362834035384\n",
      "Epochs: 400\n",
      "22.987307533470858\n",
      "Epochs: 450\n",
      "22.98098992766775\n",
      "Epochs: 500\n",
      "22.974675521323423\n",
      "Epochs: 550\n",
      "22.968364312817524\n",
      "Epochs: 600\n",
      "22.96205630053059\n",
      "Epochs: 650\n",
      "22.955751482843944\n",
      "Epochs: 700\n",
      "22.94944985813969\n",
      "Epochs: 750\n",
      "22.943151424800828\n",
      "Epochs: 800\n",
      "22.93685618121109\n",
      "Epochs: 850\n",
      "22.93056412575514\n",
      "Epochs: 900\n",
      "22.924275256818355\n",
      "Epochs: 950\n",
      "22.91798957278695\n",
      "0.08306733206652712 0.03595509843345374\n"
     ]
    },
    {
     "data": {
      "text/plain": [
       "[<matplotlib.lines.Line2D at 0x1e675aa2c40>]"
      ]
     },
     "execution_count": 61,
     "metadata": {},
     "output_type": "execute_result"
    },
    {
     "data": {
      "image/png": "[encoded data removed]",
      "text/plain": [
       "<Figure size 432x288 with 1 Axes>"
      ]
     },
     "metadata": {
      "needs_background": "light"
     },
     "output_type": "display_data"
    }
   ],
   "source": [
    "w = 0\n",
    "b = 0\n",
    "l = 0.00001\n",
    "epochs = 1000\n",
    "\n",
    "\n",
    "for i in range(epochs):\n",
    "    w, b = GD(w,b,l,data)\n",
    "    if i % 50 == 0:\n",
    "        print(f\"Epochs: {i}\")\n",
    "        cost = cost_function(w,b)\n",
    "        print(cost)\n",
    "print(w,b)\n",
    "plt.xlabel(\"TVs\")\n",
    "plt.ylabel(\"Sales\")\n",
    "plt.scatter(data.TV,data.Sales,color = \"red\")\n",
    "plt.plot(list(range(10,300)),[w*x+b for x in range(10,300)],color = \"black\")"
   ]
  }
 ],
 "metadata": {
  "kernelspec": {
   "display_name": "Python 3 (ipykernel)",
   "language": "python",
   "name": "python3"
  },
  "language_info": {
   "codemirror_mode": {
    "name": "ipython",
    "version": 3
   },
   "file_extension": ".py",
   "mimetype": "text/x-python",
   "name": "python",
   "nbconvert_exporter": "python",
   "pygments_lexer": "ipython3",
   "version": "3.9.12"
  }
 },
 "nbformat": 4,
 "nbformat_minor": 5
}
